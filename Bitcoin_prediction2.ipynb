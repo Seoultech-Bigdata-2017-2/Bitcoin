{
 "cells": [
  {
   "cell_type": "code",
   "execution_count": 1,
   "metadata": {},
   "outputs": [],
   "source": [
    "import pandas as pd\n",
    "import numpy as np\n",
    "%matplotlib inline\n",
    "import matplotlib.pyplot as plt\n",
    "\n",
    "from pandas.tseries.offsets import MonthEnd"
   ]
  },
  {
   "cell_type": "code",
   "execution_count": 2,
   "metadata": {},
   "outputs": [],
   "source": [
    "df = pd.read_csv('bitcoin.csv',delimiter='|', engine='python')"
   ]
  },
  {
   "cell_type": "code",
   "execution_count": 3,
   "metadata": {},
   "outputs": [],
   "source": [
    "df = df[245:]\n",
    "df = pd.DataFrame(df, columns=['Date', 'Google Trending', 'Open', 'High', 'Low', 'Volume', 'Cap', 'Close'])\n",
    "\n",
    "df['Date'] = pd.to_datetime(df['Date'])\n",
    "df = df.set_index('Date')"
   ]
  },
  {
   "cell_type": "code",
   "execution_count": 4,
   "metadata": {},
   "outputs": [
    {
     "data": {
      "text/html": [
       "<div>\n",
       "<style scoped>\n",
       "    .dataframe tbody tr th:only-of-type {\n",
       "        vertical-align: middle;\n",
       "    }\n",
       "\n",
       "    .dataframe tbody tr th {\n",
       "        vertical-align: top;\n",
       "    }\n",
       "\n",
       "    .dataframe thead th {\n",
       "        text-align: right;\n",
       "    }\n",
       "</style>\n",
       "<table border=\"1\" class=\"dataframe\">\n",
       "  <thead>\n",
       "    <tr style=\"text-align: right;\">\n",
       "      <th></th>\n",
       "      <th>Google Trending</th>\n",
       "      <th>Open</th>\n",
       "      <th>High</th>\n",
       "      <th>Low</th>\n",
       "      <th>Volume</th>\n",
       "      <th>Cap</th>\n",
       "      <th>Close</th>\n",
       "    </tr>\n",
       "    <tr>\n",
       "      <th>Date</th>\n",
       "      <th></th>\n",
       "      <th></th>\n",
       "      <th></th>\n",
       "      <th></th>\n",
       "      <th></th>\n",
       "      <th></th>\n",
       "      <th></th>\n",
       "    </tr>\n",
       "  </thead>\n",
       "  <tbody>\n",
       "    <tr>\n",
       "      <th>2013-12-29</th>\n",
       "      <td>26</td>\n",
       "      <td>728.05</td>\n",
       "      <td>748.61</td>\n",
       "      <td>714.44</td>\n",
       "      <td>19011300</td>\n",
       "      <td>8872600000</td>\n",
       "      <td>745.05</td>\n",
       "    </tr>\n",
       "    <tr>\n",
       "      <th>2013-12-30</th>\n",
       "      <td>27</td>\n",
       "      <td>741.35</td>\n",
       "      <td>766.60</td>\n",
       "      <td>740.24</td>\n",
       "      <td>20707700</td>\n",
       "      <td>9037000000</td>\n",
       "      <td>756.13</td>\n",
       "    </tr>\n",
       "    <tr>\n",
       "      <th>2013-12-31</th>\n",
       "      <td>26</td>\n",
       "      <td>760.32</td>\n",
       "      <td>760.58</td>\n",
       "      <td>738.17</td>\n",
       "      <td>20897300</td>\n",
       "      <td>9268240000</td>\n",
       "      <td>754.01</td>\n",
       "    </tr>\n",
       "    <tr>\n",
       "      <th>2014-01-01</th>\n",
       "      <td>29</td>\n",
       "      <td>754.97</td>\n",
       "      <td>775.35</td>\n",
       "      <td>754.97</td>\n",
       "      <td>22489400</td>\n",
       "      <td>9203030000</td>\n",
       "      <td>771.40</td>\n",
       "    </tr>\n",
       "    <tr>\n",
       "      <th>2014-01-02</th>\n",
       "      <td>32</td>\n",
       "      <td>773.44</td>\n",
       "      <td>820.31</td>\n",
       "      <td>767.21</td>\n",
       "      <td>38489500</td>\n",
       "      <td>9428180000</td>\n",
       "      <td>802.39</td>\n",
       "    </tr>\n",
       "  </tbody>\n",
       "</table>\n",
       "</div>"
      ],
      "text/plain": [
       "            Google Trending    Open    High     Low    Volume         Cap  \\\n",
       "Date                                                                        \n",
       "2013-12-29               26  728.05  748.61  714.44  19011300  8872600000   \n",
       "2013-12-30               27  741.35  766.60  740.24  20707700  9037000000   \n",
       "2013-12-31               26  760.32  760.58  738.17  20897300  9268240000   \n",
       "2014-01-01               29  754.97  775.35  754.97  22489400  9203030000   \n",
       "2014-01-02               32  773.44  820.31  767.21  38489500  9428180000   \n",
       "\n",
       "             Close  \n",
       "Date                \n",
       "2013-12-29  745.05  \n",
       "2013-12-30  756.13  \n",
       "2013-12-31  754.01  \n",
       "2014-01-01  771.40  \n",
       "2014-01-02  802.39  "
      ]
     },
     "execution_count": 4,
     "metadata": {},
     "output_type": "execute_result"
    }
   ],
   "source": [
    "df.head()"
   ]
  },
  {
   "cell_type": "code",
   "execution_count": 5,
   "metadata": {},
   "outputs": [
    {
     "data": {
      "text/plain": [
       "<matplotlib.axes._subplots.AxesSubplot at 0x7fd70e863790>"
      ]
     },
     "execution_count": 5,
     "metadata": {},
     "output_type": "execute_result"
    },
    {
     "data": {
      "image/png": "[encoded data removed]",
      "text/plain": [
       "<matplotlib.figure.Figure at 0x7fd70ebeea90>"
      ]
     },
     "metadata": {},
     "output_type": "display_data"
    }
   ],
   "source": [
    "df.plot()"
   ]
  },
  {
   "cell_type": "code",
   "execution_count": 6,
   "metadata": {},
   "outputs": [],
   "source": [
    "split_date = pd.Timestamp('01-01-2017')"
   ]
  },
  {
   "cell_type": "code",
   "execution_count": 7,
   "metadata": {},
   "outputs": [],
   "source": [
    "train = df.loc[:split_date, ['Google Trending', 'Open', 'High', 'Low', 'Volume', 'Cap', 'Close']]\n",
    "test = df.loc[split_date:, ['Google Trending', 'Open', 'High', 'Low', 'Volume', 'Cap', 'Close']]"
   ]
  },
  {
   "cell_type": "code",
   "execution_count": 8,
   "metadata": {},
   "outputs": [
    {
     "data": {
      "text/plain": [
       "<matplotlib.legend.Legend at 0x7fd70c6bee50>"
      ]
     },
     "execution_count": 8,
     "metadata": {},
     "output_type": "execute_result"
    },
    {
     "data": {
      "image/png": "[encoded data removed]",
      "text/plain": [
       "<matplotlib.figure.Figure at 0x7fd70c74edd0>"
      ]
     },
     "metadata": {},
     "output_type": "display_data"
    }
   ],
   "source": [
    "ax = train.plot()\n",
    "test.plot(ax=ax)\n",
    "plt.legend(['train', 'test'])"
   ]
  },
  {
   "cell_type": "code",
   "execution_count": 9,
   "metadata": {},
   "outputs": [
    {
     "data": {
      "text/plain": [
       "array([[ 0.15909091,  0.69046515,  0.66660872, ...,  0.04481309,\n",
       "         0.48668534,  0.69120856],\n",
       "       [ 0.17045455,  0.70712702,  0.68894573, ...,  0.04951926,\n",
       "         0.49910022,  0.70471697],\n",
       "       [ 0.15909091,  0.7308921 ,  0.68147109, ...,  0.05004525,\n",
       "         0.51656262,  0.70213233],\n",
       "       ..., \n",
       "       [ 0.78409091,  0.99674279,  0.94463552, ...,  0.51216375,\n",
       "         0.99699445,  0.95478098],\n",
       "       [ 0.65909091,  0.98183481,  0.93372155, ...,  0.26709322,\n",
       "         0.98268411,  0.9578289 ],\n",
       "       [ 0.04545455,  0.98563071,  0.98256745, ...,  0.40203045,\n",
       "         0.98649768,  1.        ]])"
      ]
     },
     "execution_count": 9,
     "metadata": {},
     "output_type": "execute_result"
    }
   ],
   "source": [
    "from sklearn.preprocessing import MinMaxScaler\n",
    "\n",
    "sc = MinMaxScaler()\n",
    "\n",
    "train_sc = sc.fit_transform(train)\n",
    "test_sc = sc.transform(test)\n",
    "\n",
    "train_sc"
   ]
  },
  {
   "cell_type": "code",
   "execution_count": 31,
   "metadata": {},
   "outputs": [],
   "source": [
    "def preprocess_data(data, seq_len):\n",
    "    amount_of_features = len(data[0])\n",
    "    \n",
    "    sequence_length = seq_len + 1\n",
    "    result = []\n",
    "    for index in range(len(data) - sequence_length):\n",
    "        result.append(data[index : index + sequence_length])\n",
    "        \n",
    "    result = np.array(result)\n",
    "    \n",
    "    X_data = result[:, : -1]\n",
    "    y_data = result[:, -1][: ,-1]\n",
    "\n",
    "    X_data = np.reshape(X_data, (X_data.shape[0], X_data.shape[1], amount_of_features))\n",
    "\n",
    "    return [X_data, y_data]"
   ]
  },
  {
   "cell_type": "code",
   "execution_count": 33,
   "metadata": {},
   "outputs": [],
   "source": [
    "X_train, y_train = preprocess_data(train_sc, 30)\n",
    "X_test, y_test = preprocess_data(test_sc, 30)"
   ]
  },
  {
   "cell_type": "code",
   "execution_count": 34,
   "metadata": {},
   "outputs": [
    {
     "data": {
      "text/plain": [
       "(1069, 30, 7)"
      ]
     },
     "execution_count": 34,
     "metadata": {},
     "output_type": "execute_result"
    }
   ],
   "source": [
    "X_train.shape"
   ]
  },
  {
   "cell_type": "code",
   "execution_count": 35,
   "metadata": {},
   "outputs": [
    {
     "data": {
      "text/plain": [
       "(298, 30, 7)"
      ]
     },
     "execution_count": 35,
     "metadata": {},
     "output_type": "execute_result"
    }
   ],
   "source": [
    "X_test.shape"
   ]
  },
  {
   "cell_type": "markdown",
   "metadata": {},
   "source": [
    "# Model"
   ]
  },
  {
   "cell_type": "code",
   "execution_count": 41,
   "metadata": {},
   "outputs": [],
   "source": [
    "import time\n",
    "from keras.layers import LSTM \n",
    "from keras.models import Sequential \n",
    "from keras.layers.core import Dense, Dropout, Activation\n",
    "\n",
    "import keras.backend as K \n",
    "\n",
    "from keras.callbacks import EarlyStopping \n",
    "\n",
    "def build_model(layers):\n",
    "    model = Sequential()\n",
    "\n",
    "    # By setting return_sequences to True we are able to stack another LSTM layer\n",
    "    model.add(LSTM(30, return_sequences=True, input_shape=(layers[1], layers[2])))\n",
    "    model.add(Dropout(0.4))\n",
    "\n",
    "    model.add(LSTM(\n",
    "        100,\n",
    "        return_sequences=False))\n",
    "    model.add(Dropout(0.3))\n",
    "\n",
    "    model.add(Dense(1))\n",
    "    model.add(Activation(\"linear\"))\n",
    "\n",
    "    start = time.time()\n",
    "    model.compile(loss=\"mse\", optimizer=\"rmsprop\", metrics=['accuracy'])\n",
    "    print(\"Compilation Time : \", time.time() - start)\n",
    "    return model"
   ]
  },
  {
   "cell_type": "code",
   "execution_count": 42,
   "metadata": {},
   "outputs": [
    {
     "name": "stdout",
     "output_type": "stream",
     "text": [
      "('Compilation Time : ', 0.019186019897460938)\n"
     ]
    }
   ],
   "source": [
    "model = build_model(X_train.shape)"
   ]
  },
  {
   "cell_type": "code",
   "execution_count": 44,
   "metadata": {
    "scrolled": true
   },
   "outputs": [
    {
     "name": "stdout",
     "output_type": "stream",
     "text": [
      "Train on 962 samples, validate on 107 samples\n",
      "Epoch 1/100\n",
      "962/962 [==============================] - 2s 2ms/step - loss: 0.0093 - acc: 0.0010 - val_loss: 0.0199 - val_acc: 0.0000e+00\n",
      "Epoch 2/100\n",
      "962/962 [==============================] - 1s 1ms/step - loss: 0.0044 - acc: 0.0010 - val_loss: 0.0139 - val_acc: 0.0000e+00\n",
      "Epoch 3/100\n",
      "962/962 [==============================] - 1s 1ms/step - loss: 0.0043 - acc: 0.0010 - val_loss: 0.0084 - val_acc: 0.0000e+00\n",
      "Epoch 4/100\n",
      "962/962 [==============================] - 1s 1ms/step - loss: 0.0039 - acc: 0.0010 - val_loss: 0.0086 - val_acc: 0.0000e+00\n",
      "Epoch 5/100\n",
      "962/962 [==============================] - 1s 1ms/step - loss: 0.0033 - acc: 0.0010 - val_loss: 0.0094 - val_acc: 0.0000e+00\n",
      "Epoch 6/100\n",
      "962/962 [==============================] - 1s 1ms/step - loss: 0.0035 - acc: 0.0010 - val_loss: 0.0091 - val_acc: 0.0000e+00\n",
      "Epoch 00006: early stopping\n"
     ]
    },
    {
     "data": {
      "text/plain": [
       "<keras.callbacks.History at 0x7fd6f8d77a50>"
      ]
     },
     "execution_count": 44,
     "metadata": {},
     "output_type": "execute_result"
    }
   ],
   "source": [
    "from keras.callbacks import EarlyStopping\n",
    "\n",
    "early_stop = EarlyStopping(monitor='loss', patience=1, verbose=1)\n",
    "\n",
    "model.fit(\n",
    "    X_train,\n",
    "    y_train,\n",
    "    batch_size=30,\n",
    "    epochs=100,\n",
    "    validation_split=0.1,\n",
    "    verbose=1,\n",
    "    callbacks=[early_stop])"
   ]
  },
  {
   "cell_type": "code",
   "execution_count": 47,
   "metadata": {},
   "outputs": [
    {
     "name": "stdout",
     "output_type": "stream",
     "text": [
      "Train Score: 0.00 MSE (0.05 RMSE)\n",
      "Test Score: 8.77 MSE (2.96 RMSE)\n"
     ]
    }
   ],
   "source": [
    "import math\n",
    "\n",
    "trainScore = model.evaluate(X_train, y_train, verbose=0)\n",
    "print('Train Score: %.2f MSE (%.2f RMSE)' % (trainScore[0], math.sqrt(trainScore[0])))\n",
    "\n",
    "testScore = model.evaluate(X_test, y_test, verbose=0)\n",
    "print('Test Score: %.2f MSE (%.2f RMSE)' % (testScore[0], math.sqrt(testScore[0])))"
   ]
  },
  {
   "cell_type": "markdown",
   "metadata": {},
   "source": [
    "# Predict"
   ]
  },
  {
   "cell_type": "code",
   "execution_count": 53,
   "metadata": {},
   "outputs": [],
   "source": [
    "y_pred = model.predict(X_test)"
   ]
  },
  {
   "cell_type": "code",
   "execution_count": 78,
   "metadata": {},
   "outputs": [],
   "source": [
    "b = np.array(test)"
   ]
  },
  {
   "cell_type": "code",
   "execution_count": 83,
   "metadata": {},
   "outputs": [],
   "source": [
    "x, y = preprocess_data(b, 30)"
   ]
  },
  {
   "cell_type": "code",
   "execution_count": 86,
   "metadata": {},
   "outputs": [],
   "source": [
    "test_y = model.predict(x)"
   ]
  },
  {
   "cell_type": "code",
   "execution_count": 87,
   "metadata": {},
   "outputs": [
    {
     "data": {
      "text/plain": [
       "array([[-0.08181676],\n",
       "       [-0.08181676],\n",
       "       [-0.08181676],\n",
       "       [-0.08181676],\n",
       "       [-0.08181676],\n",
       "       [-0.08181676],\n",
       "       [-0.08181676],\n",
       "       [-0.08181676],\n",
       "       [-0.08181676],\n",
       "       [-0.08181676],\n",
       "       [-0.08181676],\n",
       "       [-0.08181676],\n",
       "       [-0.08181676],\n",
       "       [-0.08181676],\n",
       "       [-0.08181676],\n",
       "       [-0.08181676],\n",
       "       [-0.08181676],\n",
       "       [-0.08181676],\n",
       "       [-0.08181676],\n",
       "       [-0.08181676],\n",
       "       [-0.08181676],\n",
       "       [-0.08181676],\n",
       "       [-0.08181676],\n",
       "       [-0.08181676],\n",
       "       [-0.08181676],\n",
       "       [-0.08181676],\n",
       "       [-0.08181676],\n",
       "       [-0.08181676],\n",
       "       [-0.08181676],\n",
       "       [-0.08181676],\n",
       "       [-0.08181676],\n",
       "       [-0.08181676],\n",
       "       [-0.08181676],\n",
       "       [-0.08181676],\n",
       "       [-0.08181676],\n",
       "       [-0.08181676],\n",
       "       [-0.08181676],\n",
       "       [-0.08181676],\n",
       "       [-0.08181676],\n",
       "       [-0.08181676],\n",
       "       [-0.08181676],\n",
       "       [-0.08181676],\n",
       "       [-0.08181676],\n",
       "       [-0.08181676],\n",
       "       [-0.08181676],\n",
       "       [-0.08181676],\n",
       "       [-0.08181676],\n",
       "       [-0.08181676],\n",
       "       [-0.08181676],\n",
       "       [-0.08181676],\n",
       "       [-0.08181676],\n",
       "       [-0.08181676],\n",
       "       [-0.08181676],\n",
       "       [-0.08181676],\n",
       "       [-0.08181676],\n",
       "       [-0.08181676],\n",
       "       [-0.08181676],\n",
       "       [-0.08181676],\n",
       "       [-0.08181676],\n",
       "       [-0.08181676],\n",
       "       [-0.08181676],\n",
       "       [-0.08181676],\n",
       "       [-0.08181676],\n",
       "       [-0.08181676],\n",
       "       [-0.08181676],\n",
       "       [-0.08181676],\n",
       "       [-0.08181676],\n",
       "       [-0.08181676],\n",
       "       [-0.08181676],\n",
       "       [-0.08181676],\n",
       "       [-0.08181676],\n",
       "       [-0.08181676],\n",
       "       [-0.08181676],\n",
       "       [-0.08181676],\n",
       "       [-0.08181676],\n",
       "       [-0.08181676],\n",
       "       [-0.08181676],\n",
       "       [-0.08181676],\n",
       "       [-0.08181676],\n",
       "       [-0.08181676],\n",
       "       [-0.08181676],\n",
       "       [-0.08181676],\n",
       "       [-0.08181676],\n",
       "       [-0.08181676],\n",
       "       [-0.08181676],\n",
       "       [-0.08181676],\n",
       "       [-0.08181676],\n",
       "       [-0.08181676],\n",
       "       [-0.08181676],\n",
       "       [-0.08181676],\n",
       "       [-0.08181676],\n",
       "       [-0.08181676],\n",
       "       [-0.08181676],\n",
       "       [-0.08181676],\n",
       "       [-0.08181676],\n",
       "       [-0.08181676],\n",
       "       [-0.08181676],\n",
       "       [-0.08181676],\n",
       "       [-0.08181676],\n",
       "       [-0.08181676],\n",
       "       [-0.08181676],\n",
       "       [-0.08181676],\n",
       "       [-0.08181676],\n",
       "       [-0.08181676],\n",
       "       [-0.08181676],\n",
       "       [-0.08181676],\n",
       "       [-0.08181676],\n",
       "       [-0.08181676],\n",
       "       [-0.08181676],\n",
       "       [-0.08181676],\n",
       "       [-0.08181676],\n",
       "       [-0.08181676],\n",
       "       [-0.08181676],\n",
       "       [-0.08181676],\n",
       "       [-0.08181676],\n",
       "       [-0.08181676],\n",
       "       [-0.08181676],\n",
       "       [-0.08181676],\n",
       "       [-0.08181676],\n",
       "       [-0.08181676],\n",
       "       [-0.08181676],\n",
       "       [-0.08181676],\n",
       "       [-0.08181676],\n",
       "       [-0.08181676],\n",
       "       [-0.08181676],\n",
       "       [-0.08181676],\n",
       "       [-0.08181676],\n",
       "       [-0.08181676],\n",
       "       [-0.08181676],\n",
       "       [-0.08181676],\n",
       "       [-0.08181676],\n",
       "       [-0.08181676],\n",
       "       [-0.08181676],\n",
       "       [-0.08181676],\n",
       "       [-0.08181676],\n",
       "       [-0.08181676],\n",
       "       [-0.08181676],\n",
       "       [-0.08181676],\n",
       "       [-0.08181676],\n",
       "       [-0.08181676],\n",
       "       [-0.08181676],\n",
       "       [-0.08181676],\n",
       "       [-0.08181676],\n",
       "       [-0.08181676],\n",
       "       [-0.08181676],\n",
       "       [-0.08181676],\n",
       "       [-0.08181676],\n",
       "       [-0.08181676],\n",
       "       [-0.08181676],\n",
       "       [-0.08181676],\n",
       "       [-0.08181676],\n",
       "       [-0.08181676],\n",
       "       [-0.08181676],\n",
       "       [-0.08181676],\n",
       "       [-0.08181676],\n",
       "       [-0.08181676],\n",
       "       [-0.08181676],\n",
       "       [-0.08181676],\n",
       "       [-0.08181676],\n",
       "       [-0.08181676],\n",
       "       [-0.08181676],\n",
       "       [-0.08181676],\n",
       "       [-0.08181676],\n",
       "       [-0.08181676],\n",
       "       [-0.08181676],\n",
       "       [-0.08181676],\n",
       "       [-0.08181676],\n",
       "       [-0.08181676],\n",
       "       [-0.08181676],\n",
       "       [-0.08181676],\n",
       "       [-0.08181676],\n",
       "       [-0.08181676],\n",
       "       [-0.08181676],\n",
       "       [-0.08181676],\n",
       "       [-0.08181676],\n",
       "       [-0.08181676],\n",
       "       [-0.08181676],\n",
       "       [-0.08181676],\n",
       "       [-0.08181676],\n",
       "       [-0.08181676],\n",
       "       [-0.08181676],\n",
       "       [-0.08181676],\n",
       "       [-0.08181676],\n",
       "       [-0.08181676],\n",
       "       [-0.08181676],\n",
       "       [-0.08181676],\n",
       "       [-0.08181676],\n",
       "       [-0.08181676],\n",
       "       [-0.08181676],\n",
       "       [-0.08181676],\n",
       "       [-0.08181676],\n",
       "       [-0.08181676],\n",
       "       [-0.08181676],\n",
       "       [-0.08181676],\n",
       "       [-0.08181676],\n",
       "       [-0.08181676],\n",
       "       [-0.08181676],\n",
       "       [-0.08181676],\n",
       "       [-0.08181676],\n",
       "       [-0.08181676],\n",
       "       [-0.08181676],\n",
       "       [-0.08181676],\n",
       "       [-0.08181676],\n",
       "       [-0.08181676],\n",
       "       [-0.08181676],\n",
       "       [-0.08181676],\n",
       "       [-0.08181676],\n",
       "       [-0.08181676],\n",
       "       [-0.08181676],\n",
       "       [-0.08181676],\n",
       "       [-0.08181676],\n",
       "       [-0.08181676],\n",
       "       [-0.08181676],\n",
       "       [-0.08181676],\n",
       "       [-0.08181676],\n",
       "       [-0.08181676],\n",
       "       [-0.08181676],\n",
       "       [-0.08181676],\n",
       "       [-0.08181676],\n",
       "       [-0.08181676],\n",
       "       [-0.08181676],\n",
       "       [-0.08181676],\n",
       "       [-0.08181676],\n",
       "       [-0.08181676],\n",
       "       [-0.08181676],\n",
       "       [-0.08181676],\n",
       "       [-0.08181676],\n",
       "       [-0.08181676],\n",
       "       [-0.08181676],\n",
       "       [-0.08181676],\n",
       "       [-0.08181676],\n",
       "       [-0.08181676],\n",
       "       [-0.08181676],\n",
       "       [-0.08181676],\n",
       "       [-0.08181676],\n",
       "       [-0.08181676],\n",
       "       [-0.08181676],\n",
       "       [-0.08181676],\n",
       "       [-0.08181676],\n",
       "       [-0.08181676],\n",
       "       [-0.08181676],\n",
       "       [-0.08181676],\n",
       "       [-0.08181676],\n",
       "       [-0.08181676],\n",
       "       [-0.08181676],\n",
       "       [-0.08181676],\n",
       "       [-0.08181676],\n",
       "       [-0.08181676],\n",
       "       [-0.08181676],\n",
       "       [-0.08181676],\n",
       "       [-0.08181676],\n",
       "       [-0.08181676],\n",
       "       [-0.08181676],\n",
       "       [-0.08181676],\n",
       "       [-0.08181676],\n",
       "       [-0.08181676],\n",
       "       [-0.08181676],\n",
       "       [-0.08181676],\n",
       "       [-0.08181676],\n",
       "       [-0.08181676],\n",
       "       [-0.08181676],\n",
       "       [-0.08181676],\n",
       "       [-0.08181676],\n",
       "       [-0.08181676],\n",
       "       [-0.08181676],\n",
       "       [-0.08181676],\n",
       "       [-0.08181676],\n",
       "       [-0.08181676],\n",
       "       [-0.08181676],\n",
       "       [-0.08181676],\n",
       "       [-0.08181676],\n",
       "       [-0.08181676],\n",
       "       [-0.08181676],\n",
       "       [-0.08181676],\n",
       "       [-0.08181676],\n",
       "       [-0.08181676],\n",
       "       [-0.08181676],\n",
       "       [-0.08181676],\n",
       "       [-0.08181676],\n",
       "       [-0.08181676],\n",
       "       [-0.08181676],\n",
       "       [-0.08181676],\n",
       "       [-0.08181676],\n",
       "       [-0.08181676],\n",
       "       [-0.08181676],\n",
       "       [-0.08181676],\n",
       "       [-0.08181676],\n",
       "       [-0.08181676],\n",
       "       [-0.08181676],\n",
       "       [-0.08181676],\n",
       "       [-0.08181676],\n",
       "       [-0.08181676],\n",
       "       [-0.08181676],\n",
       "       [-0.08181676],\n",
       "       [-0.08181676],\n",
       "       [-0.08181676],\n",
       "       [-0.08181676],\n",
       "       [-0.08181676]], dtype=float32)"
      ]
     },
     "execution_count": 87,
     "metadata": {},
     "output_type": "execute_result"
    }
   ],
   "source": [
    "test_y"
   ]
  },
  {
   "cell_type": "code",
   "execution_count": null,
   "metadata": {},
   "outputs": [],
   "source": []
  }
 ],
 "metadata": {
  "kernelspec": {
   "display_name": "Python 3",
   "language": "python",
   "name": "python3"
  },
  "language_info": {
   "codemirror_mode": {
    "name": "ipython",
    "version": 2
   },
   "file_extension": ".py",
   "mimetype": "text/x-python",
   "name": "python",
   "nbconvert_exporter": "python",
   "pygments_lexer": "ipython2",
   "version": "2.7.12"
  }
 },
 "nbformat": 4,
 "nbformat_minor": 2
}
