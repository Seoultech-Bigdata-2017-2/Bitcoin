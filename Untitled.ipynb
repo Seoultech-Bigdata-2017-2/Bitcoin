{
 "cells": [
  {
   "cell_type": "code",
   "execution_count": 1,
   "metadata": {},
   "outputs": [],
   "source": [
    "import pandas as pd\n",
    "import matplotlib.pyplot as plt\n",
    "import sklearn as sk"
   ]
  },
  {
   "cell_type": "code",
   "execution_count": 2,
   "metadata": {},
   "outputs": [],
   "source": [
    "data = pd.read_csv('bitcoin1.csv',delimiter=',')"
   ]
  },
  {
   "cell_type": "code",
   "execution_count": 3,
   "metadata": {},
   "outputs": [
    {
     "name": "stdout",
     "output_type": "stream",
     "text": [
      "            Date  DateValue     Open     High      Low    Close      Volume  \\\n",
      "0     2013-04-28      41392   135.30   135.98   132.10   134.21           -   \n",
      "1     2013-04-29      41393   134.44   147.49   134.00   144.54           -   \n",
      "2     2013-04-30      41394   144.00   146.93   134.05   139.00           -   \n",
      "3     2013-05-01      41395   139.00   139.89   107.72   116.99           -   \n",
      "4     2013-05-02      41396   116.38   125.60    92.28   105.21           -   \n",
      "5     2013-05-03      41397   106.25   108.13    79.10    97.75           -   \n",
      "6     2013-05-04      41398    98.10   115.00    92.50   112.50           -   \n",
      "7     2013-05-05      41399   112.90   118.80   107.14   115.91           -   \n",
      "8     2013-05-06      41400   115.98   124.66   106.64   112.30           -   \n",
      "9     2013-05-07      41401   112.25   113.44    97.70   111.50           -   \n",
      "10    2013-05-08      41402   109.60   115.78   109.60   113.57           -   \n",
      "11    2013-05-09      41403   113.20   113.46   109.26   112.67           -   \n",
      "12    2013-05-10      41404   112.80   122.00   111.55   117.20           -   \n",
      "13    2013-05-11      41405   117.70   118.68   113.01   115.24           -   \n",
      "14    2013-05-12      41406   115.64   117.45   113.44   115.00           -   \n",
      "15    2013-05-13      41407   114.82   118.70   114.50   117.98           -   \n",
      "16    2013-05-14      41408   117.98   119.80   110.25   111.50           -   \n",
      "17    2013-05-15      41409   111.40   115.81   103.50   114.22           -   \n",
      "18    2013-05-16      41410   114.22   118.76   112.20   118.76           -   \n",
      "19    2013-05-17      41411   118.21   125.30   116.57   123.02           -   \n",
      "20    2013-05-18      41412   123.50   125.25   122.30   123.50           -   \n",
      "21    2013-05-19      41413   123.21   124.50   119.57   121.99           -   \n",
      "22    2013-05-20      41414   122.50   123.62   120.12   122.00           -   \n",
      "23    2013-05-21      41415   122.02   123.00   121.21   122.88           -   \n",
      "24    2013-05-22      41416   122.89   124.00   122.00   123.89           -   \n",
      "25    2013-05-23      41417   123.80   126.93   123.10   126.70           -   \n",
      "26    2013-05-24      41418   126.30   133.85   125.72   133.20           -   \n",
      "27    2013-05-25      41419   133.10   133.22   128.90   131.98           -   \n",
      "28    2013-05-26      41420   131.99   136.00   130.62   133.48           -   \n",
      "29    2013-05-27      41421   133.50   135.47   124.70   129.75           -   \n",
      "...          ...        ...      ...      ...      ...      ...         ...   \n",
      "1643  2017-10-27      43035  5899.74  5988.39  5728.82  5780.90  1710130000   \n",
      "1644  2017-10-28      43036  5787.82  5876.72  5689.19  5753.09  1403920000   \n",
      "1645  2017-10-29      43037  5754.44  6255.71  5724.58  6153.85  2859040000   \n",
      "1646  2017-10-30      43038  6114.85  6214.99  6040.85  6130.53  1772150000   \n",
      "1647  2017-10-31      43039  6132.02  6470.43  6103.33  6468.40  2311380000   \n",
      "1648  2017-11-01      43040  6440.97  6767.31  6377.88  6767.31  2870320000   \n",
      "1649  2017-11-02      43041  6777.77  7367.33  6758.72  7078.50  4653770000   \n",
      "1650  2017-11-03      43042  7087.53  7461.29  7002.94  7207.76  3369860000   \n",
      "1651  2017-11-04      43043  7164.48  7492.86  7031.28  7379.95  2483800000   \n",
      "1652  2017-11-05      43044  7404.52  7617.48  7333.19  7407.41  2380410000   \n",
      "1653  2017-11-06      43045  7403.22  7445.77  7007.31  7022.76  3111900000   \n",
      "1654  2017-11-07      43046  7023.10  7253.32  7023.10  7144.38  2326340000   \n",
      "1655  2017-11-08      43047  7141.38  7776.42  7114.02  7459.69  4602200000   \n",
      "1656  2017-11-09      43048  7446.83  7446.83  7101.52  7143.58  3226250000   \n",
      "1657  2017-11-10      43049  7173.73  7312.00  6436.87  6618.14  5208250000   \n",
      "1658  2017-11-11      43050  6618.61  6873.15  6204.22  6357.60  4908680000   \n",
      "1659  2017-11-12      43051  6295.45  6625.05  5519.01  5950.07  8957350000   \n",
      "1660  2017-11-13      43052  5938.25  6811.19  5844.29  6559.49  6263250000   \n",
      "1661  2017-11-14      43053  6561.48  6764.98  6461.75  6635.75  3197110000   \n",
      "1662  2017-11-15      43054  6634.76  7342.25  6634.76  7315.54  4200880000   \n",
      "1663  2017-11-16      43055  7323.24  7967.38  7176.58  7871.69  5123810000   \n",
      "1664  2017-11-17      43056  7853.57  8004.59  7561.09  7708.99  4651670000   \n",
      "1665  2017-11-18      43057  7697.21  7884.99  7463.44  7790.15  3667190000   \n",
      "1666  2017-11-19      43058  7766.03  8101.91  7694.10  8036.49  3149320000   \n",
      "1667  2017-11-20      43059  8039.07  8336.86  7949.36  8200.64  3488450000   \n",
      "1668  2017-11-21      43060  8205.74  8348.66  7762.71  8071.26  4277610000   \n",
      "1669  2017-11-22      43061  8077.95  8302.26  8075.47  8253.55  3633530000   \n",
      "1670  2017-11-23      43062  8232.38  8267.40  8038.77  8038.77  4225180000   \n",
      "1671  2017-11-24      43063  8074.02  8374.16  7940.93  8253.69  5058610000   \n",
      "1672  2017-11-25      43064  8241.71  8790.92  8191.15  8790.92  4342060000   \n",
      "\n",
      "      Google Trending           Cap  \n",
      "0                  19    1500520000  \n",
      "1                  17    1491160000  \n",
      "2                  16    1597780000  \n",
      "3                  20    1542820000  \n",
      "4                  21    1292190000  \n",
      "5                  22    1180070000  \n",
      "6                  17    1089890000  \n",
      "7                  17    1254760000  \n",
      "8                  17    1289470000  \n",
      "9                  15    1248470000  \n",
      "10                 14    1219450000  \n",
      "11                 15    1259980000  \n",
      "12                 14    1255970000  \n",
      "13                 13    1311050000  \n",
      "14                 13    1288630000  \n",
      "15                 15    1279980000  \n",
      "16                 14    1315720000  \n",
      "17                 16    1242760000  \n",
      "18                 15    1274620000  \n",
      "19                 15    1319590000  \n",
      "20                 14    1379140000  \n",
      "21                 16    1376370000  \n",
      "22                 15    1368910000  \n",
      "23                 13    1363940000  \n",
      "24                 12    1374130000  \n",
      "25                 11    1384780000  \n",
      "26                 12    1413300000  \n",
      "27                 11    1489950000  \n",
      "28                 10    1478030000  \n",
      "29                 11    1495520000  \n",
      "...               ...           ...  \n",
      "1643               46   98225400000  \n",
      "1644               40   96369600000  \n",
      "1645               43   95819800000  \n",
      "1646               51  101833000000  \n",
      "1647               60  102130000000  \n",
      "1648               74  107287000000  \n",
      "1649               99  112910000000  \n",
      "1650               88  118084000000  \n",
      "1651               68  119376000000  \n",
      "1652               67  123388000000  \n",
      "1653               72  123379000000  \n",
      "1654               68  117056000000  \n",
      "1655               74  119041000000  \n",
      "1656               69  124146000000  \n",
      "1657               82  119607000000  \n",
      "1658               80  110362000000  \n",
      "1659              100  104980000000  \n",
      "1660               90   99029000000  \n",
      "1661               69  109434000000  \n",
      "1662               69  110667000000  \n",
      "1663               73  122164000000  \n",
      "1664               82  131026000000  \n",
      "1665               63  128425000000  \n",
      "1666               59  129595000000  \n",
      "1667               77  134167000000  \n",
      "1668               82  136967000000  \n",
      "1669               72  134851000000  \n",
      "1670               65  137444000000  \n",
      "1671               63  134816000000  \n",
      "1672               68  137632000000  \n",
      "\n",
      "[1673 rows x 9 columns]\n"
     ]
    }
   ],
   "source": [
    "print data"
   ]
  },
  {
   "cell_type": "code",
   "execution_count": 4,
   "metadata": {},
   "outputs": [
    {
     "data": {
      "text/plain": [
       "Index([u'Date', u'DateValue', u'Open', u'High', u'Low', u'Close', u'Volume',\n",
       "       u'Google Trending', u'Cap'],\n",
       "      dtype='object')"
      ]
     },
     "execution_count": 4,
     "metadata": {},
     "output_type": "execute_result"
    }
   ],
   "source": [
    "data.keys()"
   ]
  },
  {
   "cell_type": "code",
   "execution_count": 8,
   "metadata": {},
   "outputs": [
    {
     "data": {
      "text/plain": [
       "(1673, 9)"
      ]
     },
     "execution_count": 8,
     "metadata": {},
     "output_type": "execute_result"
    }
   ],
   "source": [
    "data.shape"
   ]
  },
  {
   "cell_type": "code",
   "execution_count": 119,
   "metadata": {},
   "outputs": [],
   "source": [
    "from sklearn.linear_model import LinearRegression\n",
    "data = data[245:]\n",
    "X = data.loc[:,['Volume','Google Trending']].values\n",
    "y = data['Open'].values\n",
    "\n",
    "#X_train, X_test , y_train, y_test = train_test_split(X, y, random_state=0)"
   ]
  },
  {
   "cell_type": "code",
   "execution_count": 115,
   "metadata": {
    "scrolled": false
   },
   "outputs": [],
   "source": []
  },
  {
   "cell_type": "code",
   "execution_count": 126,
   "metadata": {},
   "outputs": [],
   "source": [
    "reg = LinearRegression().fit(X, y)"
   ]
  },
  {
   "cell_type": "code",
   "execution_count": 127,
   "metadata": {},
   "outputs": [
    {
     "name": "stdout",
     "output_type": "stream",
     "text": [
      "0.826498612303\n"
     ]
    }
   ],
   "source": [
    "print reg.score(X,y)"
   ]
  },
  {
   "cell_type": "code",
   "execution_count": 128,
   "metadata": {},
   "outputs": [
    {
     "name": "stdout",
     "output_type": "stream",
     "text": [
      "[  234.88   240.36   238.85   236.25   229.66   237.2    243.77   241.73\n",
      "   240.3    242.15   241.4    236.21   236.96   237.64   236.01   236.89\n",
      "   233.04   231.89   234.02   235.32   240.29   238.98   240.93   237.1\n",
      "   237.06   237.26   237.38   237.09   233.13   230.23   222.89   225.74\n",
      "   225.77   224.15   225.     225.6    222.88   228.54   229.     228.85\n",
      "   229.71   229.92   232.44   233.42   236.76   250.82   249.43   249.04\n",
      "   244.53   245.1    243.97   246.93   244.28   240.37   242.6    243.55\n",
      "   250.96   248.72   257.04   263.35   258.55   255.46   256.49   260.81\n",
      "   271.11   269.96   265.98   270.83   269.16   284.88   293.14   310.83\n",
      "   292.03   288.05   286.04   278.09   279.33   274.77   273.5    278.88\n",
      "   275.66   277.34   276.     288.16   288.64   292.64   293.63   294.48\n",
      "   289.1    287.7    284.69   280.45   282.81   281.23   284.85   281.91\n",
      "   278.74   279.74   261.12   265.48   264.34   270.6    266.18   264.13\n",
      "   265.53   261.87   258.49   257.93   225.67   226.9    235.35   232.66\n",
      "   230.38   228.11   210.07   222.08   226.05   224.7    231.55   229.9\n",
      "   229.11   230.26   228.03   229.32   227.22   230.2    234.87   239.93\n",
      "   239.85   243.41   238.34   238.33   239.85   235.24   230.61   230.49\n",
      "   230.25   229.08   233.52   232.86   231.4    231.22   226.97   230.94\n",
      "   230.36   234.36   235.08   234.14   232.84   239.02   236.64   236.\n",
      "   237.26   237.2    238.53   238.15   240.36   246.17   243.07   242.5\n",
      "   243.74   244.74   246.88   245.2    249.49   252.11   254.3    262.75\n",
      "   270.91   261.86   263.57   269.31   266.5    273.65   276.5    281.44\n",
      "   283.63   285.18   293.7    304.32   313.94   328.51   315.     325.94\n",
      "   361.87   403.66   408.08   388.05   374.27   384.28   374.32   379.98\n",
      "   339.82   314.08   338.5    336.62   333.05   319.74   330.36   334.59\n",
      "   334.68   326.41   322.09   326.98   324.35   323.01   320.05   328.3\n",
      "   351.86   357.14   357.47   371.44   377.41   361.85   359.33   361.26\n",
      "   363.72   389.56   389.98   395.75   414.44   417.99   415.28   452.33\n",
      "   431.66   433.27   443.88   465.21   454.78   455.85   463.55   462.23\n",
      "   442.84   437.44   436.72   443.09   454.86   455.76   416.51   423.34\n",
      "   422.1    433.3    425.88   430.72   434.62   433.58   430.06   433.07\n",
      "   431.86   430.01   457.54   453.38   448.24   448.7    448.18   434.67\n",
      "   432.29   430.25   365.07   387.15   381.73   387.03   379.74   419.63\n",
      "   409.75   382.43   388.1    402.32   392.     392.44   395.15   380.11\n",
      "   378.87   378.29   369.35   372.92   374.65   370.17   388.9    386.59\n",
      "   376.51   376.76   373.42   376.15   382.11   379.69   384.64   392.93\n",
      "   407.57   401.43   407.66   416.57   422.73   421.6    437.77   438.99\n",
      "   438.25   420.96   425.04   424.63   432.84   432.57   433.44   437.92\n",
      "   435.13   423.91   421.84   410.78   400.52   407.76   414.46   413.89\n",
      "   414.74   417.24   421.61   411.65   414.2    416.39   416.89   417.89\n",
      "   420.55   409.26   410.4    413.42   413.13   418.16   418.42   416.51\n",
      "   417.37   418.14   426.55   424.3    416.83   415.26   416.76   418.42\n",
      "   421.17   421.3    421.02   424.28   423.62   422.91   420.81   419.59\n",
      "   421.87   422.84   425.63   423.94   424.43   429.57   430.64   427.61\n",
      "   428.7    435.32   441.42   449.69   445.86   450.56   459.12   461.65\n",
      "   466.26   445.04   449.41   455.18   448.48   451.93   444.73   450.18\n",
      "   446.71   447.94   459.64   458.43   458.21   460.52   450.86   452.45\n",
      "   454.85   455.82   455.76   457.59   454.01   453.69   454.52   437.79\n",
      "   442.97   443.22   439.35   444.29   446.06   449.67   453.52   473.03\n",
      "   527.48   528.47   534.19   531.11   536.51   537.68   569.71   573.31\n",
      "   574.6    585.45   577.17   582.2    575.84   578.67   609.68   671.65\n",
      "   704.5    685.68   696.52   768.49   748.76   756.69   763.93   735.88\n",
      "   665.91   597.44   625.58   665.28   665.93   629.35   658.1    644.12\n",
      "   640.59   672.51   676.73   704.97   658.8    683.21   670.42   678.09\n",
      "   640.69   666.38   650.6    648.48   648.28   664.8    652.92   659.17\n",
      "   663.78   661.99   679.81   672.74   672.81   665.23   664.92   650.73\n",
      "   655.41   661.26   654.23   651.63   654.49   655.11   657.01   655.1\n",
      "   624.6    606.4    548.66   566.33   578.28   575.03   587.77   592.74\n",
      "   591.04   587.65   592.12   588.8    587.36   585.59   570.49   567.24\n",
      "   577.76   573.71   574.34   576.08   581.94   581.31   586.77   583.41\n",
      "   580.18   577.75   579.45   569.83   574.07   574.11   577.59   575.55\n",
      "   572.41   575.55   598.59   608.99   606.51   610.57   614.63   626.35\n",
      "   622.93   623.42   607.     608.02   608.84   610.59   607.25   607.22\n",
      "   606.28   609.87   609.25   603.59   597.28   596.2    602.96   602.75\n",
      "   600.81   608.02   606.24   605.02   605.72   609.93   613.95   610.97\n",
      "   612.05   610.22   612.47   612.61   617.34   619.17   616.82   619.24\n",
      "   640.87   636.03   637.01   640.31   639.08   641.82   639.41   638.13\n",
      "   630.66   630.83   633.14   657.62   657.16   654.     657.68   678.21\n",
      "   688.     690.29   714.12   702.64   701.34   730.07   742.35   689.12\n",
      "   703.52   703.81   710.74   703.09   709.83   722.84   715.55   716.75\n",
      "   705.2    702.     705.79   711.17   744.88   740.71   751.83   751.88\n",
      "   731.26   739.64   751.74   744.62   740.44   741.51   735.44   732.48\n",
      "   736.33   736.28   746.05   757.54   778.25   771.64   773.39   758.72\n",
      "   764.21   768.08   769.94   773.02   774.75   770.04   780.65   780.\n",
      "   780.07   778.96   785.17   791.01   790.69   792.25   800.64   834.18\n",
      "   864.89   922.18   899.65   896.9    908.35   934.83   975.13   972.53\n",
      "   960.63   963.66   998.62  1021.6   1044.4   1156.73  1014.24   903.49\n",
      "   908.17   913.24   902.44   908.12   775.18   803.74   825.14   818.14\n",
      "   821.78   830.95   909.37   888.34   898.17   895.55   922.21   925.5\n",
      "   910.68   891.92   902.39   918.36   919.81   922.07   920.15   920.96\n",
      "   970.94   990.    1011.46  1031.33  1043.52  1028.4   1040.14  1062.32\n",
      "  1064.7    995.63   988.9   1003.52   998.88   991.74  1006.21  1007.65\n",
      "  1026.12  1049.21  1054.76  1048.69  1079.28  1114.8   1117.27  1172.71\n",
      "  1170.41  1144.27  1163.78  1180.72  1180.04  1224.68  1250.71  1277.43\n",
      "  1254.29  1267.47  1273.21  1223.23  1150.35  1189.36  1116.32  1176.62\n",
      "  1221.78  1232.16  1240.16  1251.33  1180.16  1099.69   976.73  1037.24\n",
      "  1055.36  1120.65  1050.05  1038.45   936.54   974.01   972.05  1044.58\n",
      "  1046.08  1042.21  1026.64  1071.71  1080.61  1102.95  1145.52  1134.14\n",
      "  1125.81  1178.94  1172.65  1176.57  1187.3   1187.46  1204.81  1201.02\n",
      "  1170.33  1167.3   1172.61  1183.25  1193.77  1212.13  1211.08  1229.42\n",
      "  1222.71  1231.92  1209.63  1250.45  1265.99  1281.88  1317.74  1317.84\n",
      "  1321.87  1348.3   1421.03  1453.78  1490.72  1540.87  1556.81  1579.47\n",
      "  1596.92  1723.89  1756.52  1780.37  1845.76  1723.12  1800.86  1808.44\n",
      "  1741.7   1726.73  1818.7   1897.37  1984.24  2067.03  2043.19  2191.56\n",
      "  2321.37  2446.24  2320.89  2196.27  2054.08  2159.43  2255.36  2187.19\n",
      "  2288.33  2404.03  2493.72  2547.79  2512.4   2690.84  2869.38  2720.49\n",
      "  2807.44  2828.14  2942.41  2953.22  2680.91  2716.88  2499.58  2469.57\n",
      "  2514.01  2655.35  2549.03  2591.26  2709.43  2691.03  2707.34  2738.52\n",
      "  2607.25  2590.57  2478.45  2553.03  2567.56  2539.24  2492.6   2436.4\n",
      "  2498.56  2561.    2602.87  2608.1   2608.59  2520.27  2572.61  2525.25\n",
      "  2385.89  2332.77  2402.7   2360.59  2230.12  1991.98  1932.62  2233.52\n",
      "  2323.08  2269.89  2838.41  2668.63  2808.1   2732.7   2757.5   2577.77\n",
      "  2538.71  2679.73  2807.02  2724.39  2763.24  2871.3   2727.13  2709.56\n",
      "  2806.93  2897.63  3257.61  3212.78  3370.22  3420.4   3341.84  3373.82\n",
      "  3650.63  3880.04  4066.1   4326.99  4200.34  4384.44  4324.34  4137.75\n",
      "  4189.31  4090.48  3998.35  4089.01  4137.6   4332.82  4372.06  4345.1\n",
      "  4384.45  4389.21  4570.36  4555.59  4701.76  4901.42  4585.27  4591.63\n",
      "  4228.29  4376.59  4589.14  4605.16  4229.81  4229.34  4122.47  4168.88\n",
      "  4131.98  3875.37  3166.3   3637.75  3606.28  3591.09  4073.79  3916.36\n",
      "  3901.47  3628.02  3629.92  3796.15  3681.58  3928.41  3892.94  4197.13\n",
      "  4171.62  4166.11  4341.05  4395.81  4408.46  4319.37  4229.88  4324.46\n",
      "  4369.35  4429.67  4614.52  4776.21  4789.25  4829.58  5464.16  5643.53\n",
      "  5835.96  5687.57  5741.58  5603.82  5583.74  5708.11  5996.79  6036.66\n",
      "  6006.    5935.52  5524.6   5747.95  5899.74  5787.82  5754.44  6114.85\n",
      "  6132.02  6440.97  6777.77  7087.53  7164.48  7404.52  7403.22  7023.1\n",
      "  7141.38  7446.83  7173.73  6618.61  6295.45  5938.25  6561.48  6634.76\n",
      "  7323.24  7853.57  7697.21  7766.03  8039.07  8205.74  8077.95  8232.38\n",
      "  8074.02  8241.71]\n"
     ]
    }
   ],
   "source": [
    "print y"
   ]
  },
  {
   "cell_type": "code",
   "execution_count": 133,
   "metadata": {},
   "outputs": [
    {
     "data": {
      "image/png": "[encoded data removed]",
      "text/plain": [
       "<matplotlib.figure.Figure at 0x7f2ee78f5a90>"
      ]
     },
     "metadata": {},
     "output_type": "display_data"
    }
   ],
   "source": [
    "plt.semilogy(data.DateValue, data.Open, label=\"original\")\n",
    "plt.semilogy(data.DateValue, y, label=\"trained\")\n",
    "plt.legend()\n",
    "plt.show()"
   ]
  },
  {
   "cell_type": "code",
   "execution_count": 131,
   "metadata": {},
   "outputs": [
    {
     "data": {
      "image/png": "[encoded data removed]",
      "text/plain": [
       "<matplotlib.figure.Figure at 0x7f2ee5ba2450>"
      ]
     },
     "metadata": {},
     "output_type": "display_data"
    }
   ],
   "source": []
  }
 ],
 "metadata": {
  "kernelspec": {
   "display_name": "Python 2",
   "language": "python",
   "name": "python2"
  },
  "language_info": {
   "codemirror_mode": {
    "name": "ipython",
    "version": 2
   },
   "file_extension": ".py",
   "mimetype": "text/x-python",
   "name": "python",
   "nbconvert_exporter": "python",
   "pygments_lexer": "ipython2",
   "version": "2.7.12"
  }
 },
 "nbformat": 4,
 "nbformat_minor": 2
}
